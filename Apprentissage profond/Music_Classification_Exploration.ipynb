{
  "nbformat": 4,
  "nbformat_minor": 0,
  "metadata": {
    "colab": {
      "name": "Music Classification Exploration.ipynb",
      "provenance": []
    },
    "kernelspec": {
      "name": "python3",
      "display_name": "Python 3"
    }
  },
  "cells": [
    {
      "cell_type": "markdown",
      "metadata": {
        "id": "dqeayei3JYWy",
        "colab_type": "text"
      },
      "source": [
        "##Preparing the notebook"
      ]
    },
    {
      "cell_type": "markdown",
      "metadata": {
        "id": "RZvSY1x0JiUe",
        "colab_type": "text"
      },
      "source": [
        "Install the fastai package"
      ]
    },
    {
      "cell_type": "code",
      "metadata": {
        "id": "vWM2Q4QRJJlv",
        "colab_type": "code",
        "outputId": "ab6ed790-b57d-4e98-db8c-c2312280c3e6",
        "colab": {
          "base_uri": "https://localhost:8080/",
          "height": 50
        }
      },
      "source": [
        "!curl -s https://course.fast.ai/setup/colab | bash"
      ],
      "execution_count": 0,
      "outputs": [
        {
          "output_type": "stream",
          "text": [
            "Updating fastai...\n",
            "Done.\n"
          ],
          "name": "stdout"
        }
      ]
    },
    {
      "cell_type": "markdown",
      "metadata": {
        "id": "YyZC0rmoJodx",
        "colab_type": "text"
      },
      "source": [
        "Add Google Drive as a file system"
      ]
    },
    {
      "cell_type": "code",
      "metadata": {
        "id": "-NFkxbBNJndS",
        "colab_type": "code",
        "colab": {}
      },
      "source": [
        "from google.colab import drive\n",
        "drive.mount('/content/gdrive', force_remount=True)\n",
        "root_dir = \"/content/gdrive/My Drive/\"\n",
        "base_dir = root_dir + 'fastai-v3/'"
      ],
      "execution_count": 0,
      "outputs": []
    },
    {
      "cell_type": "markdown",
      "metadata": {
        "id": "8UPTeHsBJ1mY",
        "colab_type": "text"
      },
      "source": [
        "Make sure edits to library are reloaded automatically and make sure any images or charts are displayed"
      ]
    },
    {
      "cell_type": "code",
      "metadata": {
        "id": "6912PsXcJ45R",
        "colab_type": "code",
        "colab": {}
      },
      "source": [
        "%reload_ext autoreload\n",
        "%autoreload 2\n",
        "%matplotlib inline"
      ],
      "execution_count": 0,
      "outputs": []
    },
    {
      "cell_type": "markdown",
      "metadata": {
        "id": "OTA8Et8xJxyp",
        "colab_type": "text"
      },
      "source": [
        "Import fastai"
      ]
    },
    {
      "cell_type": "code",
      "metadata": {
        "id": "c9S5BRPuKA5x",
        "colab_type": "code",
        "colab": {}
      },
      "source": [
        "from fastai.vision import *\n",
        "from fastai.metrics import error_rate"
      ],
      "execution_count": 0,
      "outputs": []
    },
    {
      "cell_type": "markdown",
      "metadata": {
        "id": "olh6vRMuKR25",
        "colab_type": "text"
      },
      "source": [
        "Define batchsize (make smaller if gpu is out of memory)"
      ]
    },
    {
      "cell_type": "code",
      "metadata": {
        "id": "IDu1vgeAKBlk",
        "colab_type": "code",
        "colab": {}
      },
      "source": [
        "bs = 64"
      ],
      "execution_count": 0,
      "outputs": []
    },
    {
      "cell_type": "markdown",
      "metadata": {
        "id": "CZRNTbeGO0Tu",
        "colab_type": "text"
      },
      "source": [
        "##Download the dataset\n"
      ]
    },
    {
      "cell_type": "code",
      "metadata": {
        "id": "9wotIIXWLUfU",
        "colab_type": "code",
        "outputId": "89f71a25-6d08-408c-c764-bf8d6bacd9c8",
        "colab": {
          "base_uri": "https://localhost:8080/",
          "height": 118
        }
      },
      "source": [
        "!curl -O https://os.unil.cloud.switch.ch/fma/fma_metadata.zip\n",
        "!curl -O https://os.unil.cloud.switch.ch/fma/fma_small.zip"
      ],
      "execution_count": 0,
      "outputs": [
        {
          "output_type": "stream",
          "text": [
            "  % Total    % Received % Xferd  Average Speed   Time    Time     Time  Current\n",
            "                                 Dload  Upload   Total   Spent    Left  Speed\n",
            "100  341M  100  341M    0     0  16.8M      0  0:00:20  0:00:20 --:--:-- 19.0M\n",
            "  % Total    % Received % Xferd  Average Speed   Time    Time     Time  Current\n",
            "                                 Dload  Upload   Total   Spent    Left  Speed\n",
            "100 7323M  100 7323M    0     0  18.6M      0  0:06:32  0:06:32 --:--:-- 19.2M\n"
          ],
          "name": "stdout"
        }
      ]
    },
    {
      "cell_type": "code",
      "metadata": {
        "id": "yuEf8PVMNWje",
        "colab_type": "code",
        "outputId": "d397b70d-27eb-4206-e4bd-56ae8b05aceb",
        "colab": {
          "base_uri": "https://localhost:8080/",
          "height": 50
        }
      },
      "source": [
        "!echo \"f0df49ffe5f2a6008d7dc83c6915b31835dfe733  fma_metadata.zip\" | sha1sum -c -\n",
        "!echo \"ade154f733639d52e35e32f5593efe5be76c6d70  fma_small.zip\"    | sha1sum -c -"
      ],
      "execution_count": 0,
      "outputs": [
        {
          "output_type": "stream",
          "text": [
            "fma_metadata.zip: OK\n",
            "fma_small.zip: OK\n"
          ],
          "name": "stdout"
        }
      ]
    },
    {
      "cell_type": "markdown",
      "metadata": {
        "id": "xGFpN5hxPBZR",
        "colab_type": "text"
      },
      "source": [
        "##Dataset Exploration"
      ]
    },
    {
      "cell_type": "code",
      "metadata": {
        "id": "tycRVitoP5OM",
        "colab_type": "code",
        "outputId": "bf0fce38-81b5-419b-a53f-a86e47226882",
        "colab": {
          "base_uri": "https://localhost:8080/",
          "height": 84
        }
      },
      "source": [
        "!pip install utils"
      ],
      "execution_count": 0,
      "outputs": [
        {
          "output_type": "stream",
          "text": [
            "Collecting utils\n",
            "  Downloading https://files.pythonhosted.org/packages/66/cc/276bcc98fb2d1e609c6c2230cc9ad76a3a29839f79c91e608cfb347d6ad7/utils-1.0.0-py2.py3-none-any.whl\n",
            "Installing collected packages: utils\n",
            "Successfully installed utils-1.0.0\n"
          ],
          "name": "stdout"
        }
      ]
    },
    {
      "cell_type": "code",
      "metadata": {
        "id": "Wo0xZJjWPGai",
        "colab_type": "code",
        "colab": {}
      },
      "source": [
        "%matplotlib inline\n",
        "\n",
        "import os\n",
        "\n",
        "import IPython.display as ipd\n",
        "import numpy as np\n",
        "import pandas as pd\n",
        "import matplotlib.pyplot as plt\n",
        "import seaborn as sns\n",
        "import sklearn as skl\n",
        "import sklearn.utils, sklearn.preprocessing, sklearn.decomposition, sklearn.svm\n",
        "import librosa\n",
        "import librosa.display\n",
        "\n",
        "import utils"
      ],
      "execution_count": 0,
      "outputs": []
    }
  ]
}